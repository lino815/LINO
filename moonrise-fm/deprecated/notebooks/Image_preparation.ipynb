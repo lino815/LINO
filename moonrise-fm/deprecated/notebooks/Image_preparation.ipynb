{
 "cells": [
  {
   "cell_type": "markdown",
   "metadata": {},
   "source": [
    "# Training patches preparation"
   ]
  },
  {
   "cell_type": "code",
   "execution_count": 1,
   "metadata": {},
   "outputs": [],
   "source": [
    "import sys\n",
    "sys.path.insert(0, \"C:/Users/p.dyroey/Documents/GitHub/moonrise-fm\")\n",
    "import matplotlib.pyplot as plt\n",
    "from PIL import Image\n",
    "import json\n",
    "\n",
    "from moonrise_fm.dataloader import *\n",
    "from moonrise_fm.lib import *\n",
    "from moonrise_fm.model import *"
   ]
  },
  {
   "cell_type": "code",
   "execution_count": 2,
   "metadata": {},
   "outputs": [
    {
     "name": "stdout",
     "output_type": "stream",
     "text": [
      "C:\\Users\\p.dyroey\\Documents\\GitHub\\moonrise-fm\\moonrise_fm\\notebooks\n"
     ]
    }
   ],
   "source": [
    "import os\n",
    "cwd = os.getcwd()\n",
    "print(cwd)"
   ]
  },
  {
   "cell_type": "code",
   "execution_count": 3,
   "metadata": {},
   "outputs": [
    {
     "name": "stdout",
     "output_type": "stream",
     "text": [
      "../params.json\n",
      "{'resize_width': 2000, 'equalize': 'True', 'patch_width': 500, 'patch_height': 500, 'label_to_value': {'_background_': 0, 'ground': 1, 'sheadow': 2, 'stone': 3, 'crater-edge': 4, 'crater-slope': 5}, 'dir': '../data/', 'train_dir': 'moonrise_crater', 'test_dir': 'images_test', 'image_folder': 'images', 'mask_folder': 'masks'}\n"
     ]
    }
   ],
   "source": [
    "print(PATH_PARAMETERS)\n",
    "with open(PATH_PARAMETERS) as f:\n",
    "    params = json.load(f)\n",
    "params = params['models_settings']\n",
    "print(params)"
   ]
  },
  {
   "cell_type": "markdown",
   "metadata": {},
   "source": [
    "### Explore dataset"
   ]
  },
  {
   "cell_type": "code",
   "execution_count": 4,
   "metadata": {
    "scrolled": true
   },
   "outputs": [
    {
     "name": "stdout",
     "output_type": "stream",
     "text": [
      "found 14 images\n",
      "['moonrise_crater\\\\images\\\\image_5_L3_45deg_tr_none_uh_img.png', 'moonrise_crater\\\\images\\\\image_6_L3_45deg_tr_none_uh_img.png', 'moonrise_crater\\\\images\\\\image_7_L3_45deg_tr_none_uh_img.png', 'moonrise_crater\\\\images\\\\image_8_L3_45deg_tr_none_uh_img.png', 'moonrise_crater\\\\images\\\\image_9_L3_40deg_tr_none_uh_img.png', 'moonrise_crater\\\\images\\\\image_10_L3_40deg_tr_none_uh_img.png', 'moonrise_crater\\\\images\\\\image_11_L3_40deg_tr_none_uh_img.png', 'moonrise_crater\\\\images\\\\image_12_L3_40deg_tr_litte1_uh_img.png', 'moonrise_crater\\\\images\\\\image_13_L3_40deg_tr_litte1_uh_img.png', 'moonrise_crater\\\\images\\\\image_14_L3_40deg_tr_litte1_uh_img.png', 'moonrise_crater\\\\images\\\\image_15_L3_40deg_tr_litte1_uh_img.png', 'moonrise_crater\\\\images\\\\image_16_L3_40deg_tr_medium1_uh_img.png', 'moonrise_crater\\\\images\\\\image_17_L3_40deg_tr_medium1_uh_img.png', 'moonrise_crater\\\\images\\\\image_18_L3_40deg_tr_medium1_uh_img.png']\n",
      "../data/moonrise_crater\n",
      "masks\n",
      "moonrise_crater\\images\\image_5_L3_45deg_tr_none_uh_img.png\n",
      "C:\\Users\\p.dyroey\\Documents\\GitHub\\moonrise-fm\\moonrise_fm\\data\\moonrise_crater\\masks\\image_5_L3_45deg_tr_none_uh_mask.png\n",
      "../data/moonrise_crater\n",
      "masks\n",
      "moonrise_crater\\images\\image_6_L3_45deg_tr_none_uh_img.png\n",
      "C:\\Users\\p.dyroey\\Documents\\GitHub\\moonrise-fm\\moonrise_fm\\data\\moonrise_crater\\masks\\image_6_L3_45deg_tr_none_uh_mask.png\n",
      "../data/moonrise_crater\n",
      "masks\n",
      "moonrise_crater\\images\\image_7_L3_45deg_tr_none_uh_img.png\n",
      "C:\\Users\\p.dyroey\\Documents\\GitHub\\moonrise-fm\\moonrise_fm\\data\\moonrise_crater\\masks\\image_7_L3_45deg_tr_none_uh_mask.png\n",
      "../data/moonrise_crater\n",
      "masks\n",
      "moonrise_crater\\images\\image_8_L3_45deg_tr_none_uh_img.png\n",
      "C:\\Users\\p.dyroey\\Documents\\GitHub\\moonrise-fm\\moonrise_fm\\data\\moonrise_crater\\masks\\image_8_L3_45deg_tr_none_uh_mask.png\n",
      "../data/moonrise_crater\n",
      "masks\n",
      "moonrise_crater\\images\\image_9_L3_40deg_tr_none_uh_img.png\n",
      "C:\\Users\\p.dyroey\\Documents\\GitHub\\moonrise-fm\\moonrise_fm\\data\\moonrise_crater\\masks\\image_9_L3_40deg_tr_none_uh_mask.png\n",
      "../data/moonrise_crater\n",
      "masks\n",
      "moonrise_crater\\images\\image_10_L3_40deg_tr_none_uh_img.png\n",
      "C:\\Users\\p.dyroey\\Documents\\GitHub\\moonrise-fm\\moonrise_fm\\data\\moonrise_crater\\masks\\image_10_L3_40deg_tr_none_uh_mask.png\n",
      "../data/moonrise_crater\n",
      "masks\n",
      "moonrise_crater\\images\\image_11_L3_40deg_tr_none_uh_img.png\n",
      "C:\\Users\\p.dyroey\\Documents\\GitHub\\moonrise-fm\\moonrise_fm\\data\\moonrise_crater\\masks\\image_11_L3_40deg_tr_none_uh_mask.png\n",
      "../data/moonrise_crater\n",
      "masks\n",
      "moonrise_crater\\images\\image_12_L3_40deg_tr_litte1_uh_img.png\n",
      "C:\\Users\\p.dyroey\\Documents\\GitHub\\moonrise-fm\\moonrise_fm\\data\\moonrise_crater\\masks\\image_12_L3_40deg_tr_litte1_uh_mask.png\n",
      "../data/moonrise_crater\n",
      "masks\n",
      "moonrise_crater\\images\\image_13_L3_40deg_tr_litte1_uh_img.png\n",
      "C:\\Users\\p.dyroey\\Documents\\GitHub\\moonrise-fm\\moonrise_fm\\data\\moonrise_crater\\masks\\image_13_L3_40deg_tr_litte1_uh_mask.png\n",
      "../data/moonrise_crater\n",
      "masks\n",
      "moonrise_crater\\images\\image_14_L3_40deg_tr_litte1_uh_img.png\n",
      "C:\\Users\\p.dyroey\\Documents\\GitHub\\moonrise-fm\\moonrise_fm\\data\\moonrise_crater\\masks\\image_14_L3_40deg_tr_litte1_uh_mask.png\n",
      "../data/moonrise_crater\n",
      "masks\n",
      "moonrise_crater\\images\\image_15_L3_40deg_tr_litte1_uh_img.png\n",
      "C:\\Users\\p.dyroey\\Documents\\GitHub\\moonrise-fm\\moonrise_fm\\data\\moonrise_crater\\masks\\image_15_L3_40deg_tr_litte1_uh_mask.png\n",
      "../data/moonrise_crater\n",
      "masks\n",
      "moonrise_crater\\images\\image_16_L3_40deg_tr_medium1_uh_img.png\n",
      "C:\\Users\\p.dyroey\\Documents\\GitHub\\moonrise-fm\\moonrise_fm\\data\\moonrise_crater\\masks\\image_16_L3_40deg_tr_medium1_uh_mask.png\n",
      "../data/moonrise_crater\n",
      "masks\n",
      "moonrise_crater\\images\\image_17_L3_40deg_tr_medium1_uh_img.png\n",
      "C:\\Users\\p.dyroey\\Documents\\GitHub\\moonrise-fm\\moonrise_fm\\data\\moonrise_crater\\masks\\image_17_L3_40deg_tr_medium1_uh_mask.png\n",
      "../data/moonrise_crater\n",
      "masks\n",
      "moonrise_crater\\images\\image_18_L3_40deg_tr_medium1_uh_img.png\n",
      "C:\\Users\\p.dyroey\\Documents\\GitHub\\moonrise-fm\\moonrise_fm\\data\\moonrise_crater\\masks\\image_18_L3_40deg_tr_medium1_uh_mask.png\n",
      "no masks: 14\n"
     ]
    },
    {
     "ename": "FileNotFoundError",
     "evalue": "[Errno 2] No such file or directory: 'moonrise_crater\\\\images\\\\image_5_L3_45deg_tr_none_uh_img.png'",
     "output_type": "error",
     "traceback": [
      "\u001b[1;31m---------------------------------------------------------------------------\u001b[0m",
      "\u001b[1;31mFileNotFoundError\u001b[0m                         Traceback (most recent call last)",
      "Cell \u001b[1;32mIn[4], line 4\u001b[0m\n\u001b[0;32m      2\u001b[0m \u001b[38;5;28mprint\u001b[39m(file_names)\n\u001b[0;32m      3\u001b[0m labels \u001b[38;5;241m=\u001b[39m list_labels(file_names)\n\u001b[1;32m----> 4\u001b[0m size_ranges \u001b[38;5;241m=\u001b[39m \u001b[43mget_sizes\u001b[49m\u001b[43m(\u001b[49m\u001b[43mfile_names\u001b[49m\u001b[43m)\u001b[49m\n\u001b[0;32m      5\u001b[0m \u001b[38;5;28mprint\u001b[39m(\u001b[38;5;124mf\u001b[39m\u001b[38;5;124m'\u001b[39m\u001b[38;5;124mlabels in dataset : \u001b[39m\u001b[38;5;132;01m{\u001b[39;00mlabels\u001b[38;5;132;01m}\u001b[39;00m\u001b[38;5;124m'\u001b[39m)\n\u001b[0;32m      6\u001b[0m \u001b[38;5;28mprint\u001b[39m(\u001b[38;5;124mf\u001b[39m\u001b[38;5;124m'\u001b[39m\u001b[38;5;124msize ranges : \u001b[39m\u001b[38;5;132;01m{\u001b[39;00msize_ranges\u001b[38;5;132;01m}\u001b[39;00m\u001b[38;5;124m'\u001b[39m)\n",
      "File \u001b[1;32mC:\\Users/p.dyroey/Documents/GitHub/moonrise-fm\\moonrise_fm\\dataloader\\image_load.py:71\u001b[0m, in \u001b[0;36mget_sizes\u001b[1;34m(image_names, mode)\u001b[0m\n\u001b[0;32m     67\u001b[0m \u001b[38;5;28;01mfor\u001b[39;00m image_name \u001b[38;5;129;01min\u001b[39;00m image_names:\n\u001b[0;32m     68\u001b[0m \n\u001b[0;32m     69\u001b[0m     \u001b[38;5;66;03m# file_name = os.path.join(data_dir, params['image_folder'],  image_name)\u001b[39;00m\n\u001b[0;32m     70\u001b[0m     file_name \u001b[38;5;241m=\u001b[39m image_name\n\u001b[1;32m---> 71\u001b[0m     image \u001b[38;5;241m=\u001b[39m np\u001b[38;5;241m.\u001b[39marray(\u001b[43mImage\u001b[49m\u001b[38;5;241;43m.\u001b[39;49m\u001b[43mopen\u001b[49m\u001b[43m(\u001b[49m\u001b[43mfile_name\u001b[49m\u001b[43m)\u001b[49m)\n\u001b[0;32m     73\u001b[0m     h\u001b[38;5;241m.\u001b[39mappend(image\u001b[38;5;241m.\u001b[39mshape[\u001b[38;5;241m0\u001b[39m])\n\u001b[0;32m     74\u001b[0m     w\u001b[38;5;241m.\u001b[39mappend(image\u001b[38;5;241m.\u001b[39mshape[\u001b[38;5;241m1\u001b[39m])\n",
      "File \u001b[1;32m~\\AppData\\Local\\pypoetry\\Cache\\virtualenvs\\prime-QENehyMj-py3.10\\lib\\site-packages\\PIL\\Image.py:3227\u001b[0m, in \u001b[0;36mopen\u001b[1;34m(fp, mode, formats)\u001b[0m\n\u001b[0;32m   3224\u001b[0m     filename \u001b[38;5;241m=\u001b[39m fp\n\u001b[0;32m   3226\u001b[0m \u001b[38;5;28;01mif\u001b[39;00m filename:\n\u001b[1;32m-> 3227\u001b[0m     fp \u001b[38;5;241m=\u001b[39m \u001b[43mbuiltins\u001b[49m\u001b[38;5;241;43m.\u001b[39;49m\u001b[43mopen\u001b[49m\u001b[43m(\u001b[49m\u001b[43mfilename\u001b[49m\u001b[43m,\u001b[49m\u001b[43m \u001b[49m\u001b[38;5;124;43m\"\u001b[39;49m\u001b[38;5;124;43mrb\u001b[39;49m\u001b[38;5;124;43m\"\u001b[39;49m\u001b[43m)\u001b[49m\n\u001b[0;32m   3228\u001b[0m     exclusive_fp \u001b[38;5;241m=\u001b[39m \u001b[38;5;28;01mTrue\u001b[39;00m\n\u001b[0;32m   3230\u001b[0m \u001b[38;5;28;01mtry\u001b[39;00m:\n",
      "\u001b[1;31mFileNotFoundError\u001b[0m: [Errno 2] No such file or directory: 'moonrise_crater\\\\images\\\\image_5_L3_45deg_tr_none_uh_img.png'"
     ]
    }
   ],
   "source": [
    "file_names = get_image_names()  \n",
    "print(file_names)\n",
    "labels = list_labels(file_names)\n",
    "size_ranges = get_sizes(file_names)\n",
    "print(f'labels in dataset : {labels}')\n",
    "print(f'size ranges : {size_ranges}')"
   ]
  },
  {
   "cell_type": "code",
   "execution_count": null,
   "metadata": {
    "scrolled": false
   },
   "outputs": [],
   "source": [
    "images = load_images(file_names)\n",
    "masks = load_masks(file_names)"
   ]
  },
  {
   "cell_type": "code",
   "execution_count": null,
   "metadata": {},
   "outputs": [],
   "source": [
    "fig, ax = plt.subplots(1, 2, figsize=(10, 8))\n",
    "ax[0].imshow(images[0], cmap='gray')\n",
    "ax[0].axis('off')\n",
    "ax[1].imshow(masks[0])\n",
    "ax[1].axis('off')\n",
    "print('image shape = ', images[0].shape)\n",
    "print('mask shape = ', masks[0].shape)"
   ]
  },
  {
   "cell_type": "markdown",
   "metadata": {},
   "source": [
    "### Patch extraction"
   ]
  },
  {
   "cell_type": "code",
   "execution_count": null,
   "metadata": {},
   "outputs": [],
   "source": [
    "# number of patches per image (should depend on patch and image size)\n",
    "n = 20\n",
    "\n",
    "shape_to_label = params['label_to_value']\n",
    "label_to_shape = {v:k for k,v in shape_to_label.items()}\n",
    "d_pixels = {k:0 for k in shape_to_label.keys()}\n",
    "d_images = {k:0 for k in shape_to_label.keys()}\n",
    "feature_labels = set([v for k,v in shape_to_label.items() if k!='_background_'])\n",
    "\n",
    "data = []\n",
    "\n",
    "for img,mask in zip(images,masks):\n",
    "    #print(mask.shape)\n",
    "    #print(len(mask.shape))\n",
    "    # error but cant find the solution. the image is already 2d so no rgb2mask needed. but tests dont work \n",
    "    #mask = rgb2mask(mask)\n",
    "    patches, patch_masks = random_patches(img, mask, n=n, patch_h=params['patch_height'], patch_w=params['patch_width'])\n",
    "    for patch, patch_mask in zip(patches,patch_masks):\n",
    "        # consider only patch containing feature_labels\n",
    "        if len(set(np.unique(patch_mask)).intersection(feature_labels))>0:  \n",
    "            data.append((patch, patch_mask))\n",
    "            \n",
    "            count = Counter(patch_mask.flatten().tolist())\n",
    "            for label, num in count.most_common():\n",
    "                d_pixels[label_to_shape[label]] += num\n",
    "                d_images[label_to_shape[label]] += 1\n",
    "                \n",
    "print('pixel per class = ', d_pixels)\n",
    "print('images per class = ', d_images)\n",
    "                \n",
    "data_aug = augment_rectangular(data)      \n",
    "random.shuffle(data_aug)\n",
    "    \n",
    "F = [val/(d_images[key]*patch_mask.size) for key,val in d_pixels.items()]\n",
    "w = np.median(F)/F\n",
    "print('cross entropy loss class weights = ', w)"
   ]
  },
  {
   "cell_type": "code",
   "execution_count": null,
   "metadata": {},
   "outputs": [],
   "source": [
    "fig, ax = plt.subplots(1, 2, figsize=(10, 8))\n",
    "ax[0].imshow(data[0][0], cmap='gray')\n",
    "ax[0].axis('off')\n",
    "ax[1].imshow(mask2rgb(data[0][1]))\n",
    "ax[1].axis('off')\n",
    "print(patch.shape, patch_mask.shape)"
   ]
  },
  {
   "cell_type": "code",
   "execution_count": null,
   "metadata": {},
   "outputs": [],
   "source": [
    "export_dir = f\"{params['dir']}{params['train_dir']}_patches_{params['patch_width']}\"\n",
    "save_patches(export_dir, data_aug)"
   ]
  },
  {
   "cell_type": "markdown",
   "metadata": {},
   "source": [
    "### Visualize patches"
   ]
  },
  {
   "cell_type": "code",
   "execution_count": null,
   "metadata": {},
   "outputs": [],
   "source": [
    "tile_size = (256, 128)\n",
    "\n",
    "path_images = natsort.natsorted(glob(os.path.join(export_dir, 'images', '*.png')))\n",
    "path_masks = natsort.natsorted(glob(os.path.join(export_dir, 'masks', '*.png')))\n",
    "\n",
    "# fix plot to accept npy array input or save mask properl as an image\n",
    "complete_image = compose_image(path_images, path_masks, tile_size, n=3)"
   ]
  },
  {
   "cell_type": "code",
   "execution_count": null,
   "metadata": {},
   "outputs": [],
   "source": [
    "plot_patches(complete_image, tile_size, index=0)"
   ]
  },
  {
   "cell_type": "markdown",
   "metadata": {},
   "source": [
    "### Test model training iteration"
   ]
  },
  {
   "cell_type": "code",
   "execution_count": null,
   "metadata": {},
   "outputs": [],
   "source": [
    "batch_size = 4\n",
    "val_ratio = 0.2\n",
    "params = {'batch_size': batch_size, 'shuffle': True, 'num_workers': 4}\n",
    "train_loader, val_loader =  make_dataloaders(export_dir, val_ratio, params)"
   ]
  },
  {
   "cell_type": "code",
   "execution_count": null,
   "metadata": {},
   "outputs": [],
   "source": [
    "it = iter(train_loader)\n",
    "sample = next(it)\n",
    "imgs = sample['image']\n",
    "true_masks = sample['mask']\n",
    "print(imgs.size())\n",
    "print(true_masks.size())"
   ]
  },
  {
   "cell_type": "code",
   "execution_count": null,
   "metadata": {},
   "outputs": [],
   "source": [
    "net = UNet(n_channels=4, n_classes=1)\n",
    "# net.cuda()\n",
    "net.eval()\n",
    "outputs = net(imgs)"
   ]
  },
  {
   "cell_type": "code",
   "execution_count": null,
   "metadata": {
    "scrolled": true
   },
   "outputs": [],
   "source": [
    "a,b = eval_net_loader(net, val_loader, 3)\n",
    "print('Class IoU:', ' '.join(f'{x:.3f}' for x in a), f'  |  Mean IoU: {b:.3f}')"
   ]
  },
  {
   "cell_type": "code",
   "execution_count": null,
   "metadata": {},
   "outputs": [],
   "source": [
    "fig, ax = plt.subplots(1, 3, figsize=(10, 8))\n",
    "ax[0].imshow(np.transpose(imgs[0], (1,2,0)))\n",
    "ax[0].axis('off')\n",
    "ax[1].imshow(mask2rgb(true_masks[0].detach().numpy()))\n",
    "ax[1].axis('off')\n",
    "ax[2].imshow(np.transpose(outputs[0].detach().numpy(),(1,2,0)))\n",
    "ax[2].axis('off')"
   ]
  },
  {
   "cell_type": "code",
   "execution_count": null,
   "metadata": {},
   "outputs": [],
   "source": []
  },
  {
   "cell_type": "code",
   "execution_count": null,
   "metadata": {},
   "outputs": [],
   "source": []
  }
 ],
 "metadata": {
  "kernelspec": {
   "display_name": "Python 3 (ipykernel)",
   "language": "python",
   "name": "python3"
  },
  "language_info": {
   "codemirror_mode": {
    "name": "ipython",
    "version": 3
   },
   "file_extension": ".py",
   "mimetype": "text/x-python",
   "name": "python",
   "nbconvert_exporter": "python",
   "pygments_lexer": "ipython3",
   "version": "3.10.4"
  }
 },
 "nbformat": 4,
 "nbformat_minor": 2
}
